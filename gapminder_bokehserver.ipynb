{
 "cells": [
  {
   "cell_type": "markdown",
   "id": "a48b95dc",
   "metadata": {},
   "source": [
    "# Visualizing Gapminder Data Using Bokeh\n",
    "\n",
    "We will create an Interactive Data Visualization in Python where we can see how different countries progress over time with a play button and slider, as well as modifiable X and Y axes.\n",
    "\n",
    "Bokeh is a flexible, interactive, shareable, productive, powerful, and open-source tool, preferrable when we want to have an interactive plot instead of a static one.\n"
   ]
  },
  {
   "cell_type": "markdown",
   "id": "c745d55c",
   "metadata": {},
   "source": [
    "<a href=\"https://www.internetgeography.net/wp-content/uploads/2018/09/GAPMINDER-1030x575.jpg\">Gapminder</a>\n",
    "\n",
    "![image info](https://www.internetgeography.net/wp-content/uploads/2018/09/GAPMINDER-1030x575.jpg)"
   ]
  },
  {
   "cell_type": "markdown",
   "id": "9a35d72f",
   "metadata": {},
   "source": [
    "## Let's begin\n",
    "\n",
    "Make sure you have Bokeh already installed in your computer. If not, you can install it using pip:"
   ]
  },
  {
   "cell_type": "code",
   "execution_count": 1,
   "id": "01696479",
   "metadata": {},
   "outputs": [],
   "source": [
    "#pip install bokeh"
   ]
  },
  {
   "cell_type": "markdown",
   "id": "fd7ba18b",
   "metadata": {},
   "source": [
    "**Step 1: First we import the packages that we need from Bokeh and pandas**"
   ]
  },
  {
   "cell_type": "code",
   "execution_count": 2,
   "id": "ad7f1cb7",
   "metadata": {},
   "outputs": [],
   "source": [
    "# Import pandas\n",
    "import pandas as pd\n",
    "\n",
    "\n",
    "# Import bokeh\n",
    "from bokeh.plotting import figure, output_file, show\n",
    "from bokeh.models import ColumnDataSource, CategoricalColorMapper\n",
    "from bokeh.palettes import Spectral6\n",
    "\n",
    "# import HoverTool\n",
    "from bokeh.models import HoverTool\n",
    "\n",
    "# import Slider\n",
    "from bokeh.models import Slider, Select\n",
    "from bokeh.layouts import column, row\n",
    "\n",
    "# Import curdoc\n",
    "from bokeh.io import curdoc\n",
    "\n",
    "#import the Button\n",
    "from bokeh.models import Button"
   ]
  },
  {
   "cell_type": "markdown",
   "id": "07dec7de",
   "metadata": {},
   "source": [
    "* We use `ColumnDataSource` to provide the **data source** for the Bokeh plots and `CategoricalColorMapper` to **color code** different geographical regions using `Spectral6` palette.\n",
    "* Bokeh allows us to add a **Hover tooltip** to provide extra information when we hover over a data point using the `HoverTool`.\n",
    "* `Slider` tool to add a **Slider** and specify the parameters for it. \n",
    "* `Select` to add a **dropdown menu**.\n",
    "* `curdoc` to run the code on **Bokeh server** to make it interactive. A Bokeh server uses Application code written in Python to create Bokeh Documents. Every new connection from a client browser results in the Bokeh server creating a new document, just for that session.\n",
    "* `Button` to add a play-pause button."
   ]
  },
  {
   "cell_type": "markdown",
   "id": "0c05c896",
   "metadata": {},
   "source": [
    "**Step 2: Import the Gapminder dataset gapminder.csv that we have uploaded here into a `Pandas dataframe`.**"
   ]
  },
  {
   "cell_type": "code",
   "execution_count": 3,
   "id": "aabbd3a9",
   "metadata": {},
   "outputs": [],
   "source": [
    "# Import data\n",
    "gm_data = pd.read_csv(\"gapminder.csv\", header=0, index_col=\"Year\")"
   ]
  },
  {
   "cell_type": "markdown",
   "id": "d6e5cd77",
   "metadata": {},
   "source": [
    "**Step 3: We now define the plot axis and axis labels. \n",
    "        <br> We will use a `dictionary` for the axis labels so that it will provide clear labels when we update the axis..**"
   ]
  },
  {
   "cell_type": "code",
   "execution_count": 4,
   "id": "dd1589f1",
   "metadata": {},
   "outputs": [],
   "source": [
    "# Define initial plot axes\n",
    "# Fertility on X axis and Life span on Y axis\n",
    "\n",
    "x = 'fertility'\n",
    "xmin, xmax = min(gm_data[x]), max(gm_data[x])\n",
    "\n",
    "y = 'life'\n",
    "ymin, ymax = min(gm_data[y]), max(gm_data[y])\n",
    "\n",
    "year = min(gm_data.index)\n",
    "\n",
    "\n",
    "# Define a dictionary of labels to make axis labels user friendly\n",
    "\n",
    "label= {\n",
    "    'fertility' : 'Fertility (children per woman)',\n",
    "    'life' : 'Life Expectancy (years)',\n",
    "    'child_mortality' : 'Child mortality rate',\n",
    "    'gdp': 'Country GDP'\n",
    "        }\n",
    "\n",
    "\n",
    "# Define bokeh data source\n",
    "source = ColumnDataSource(data={\n",
    "    'x'       : gm_data.loc[year, x],\n",
    "    'y'       : gm_data.loc[year, y],\n",
    "    'country' : gm_data.loc[year, 'Country'],\n",
    "    'pop'     : gm_data.loc[year, 'population'],\n",
    "    'pop_size': gm_data.loc[year, 'population'] / 20000000 + 2,\n",
    "    'region'  : gm_data.loc[year, 'region'],\n",
    "})\n",
    "\n",
    "\n",
    "# Make a color mapper for each region in dataset\n",
    "regions_list = gm_data['region'].unique().tolist()\n",
    "color_mapper = CategoricalColorMapper(factors=regions_list, palette=Spectral6)\n",
    "\n"
   ]
  },
  {
   "cell_type": "markdown",
   "id": "6dba91e6",
   "metadata": {},
   "source": [
    "**Step 4: Create the figure.**\n",
    "   <br>\n",
    "  * Here we plot the `scatter plots` using **plot.circle()**. \n",
    "  * We use fertility as x axis, life expectancy as y axis, and population as the dot size.\n",
    "  * We use `pop_size` so that the dots fit in the plot.\n",
    "  * We then use `output_file()` to save the plot as a .html file \n",
    "  * and finally `show(plot)` to show the plot.\n",
    "  \n",
    "**To add a hover tooltip:**\n",
    "  * Initialize `Hovertool` it with the information we want to have in it. \n",
    "  * The parameter tooltips accepts a list of tuples as the input, with the label on the left and the data on the right. \n",
    "  * As with figure, the data source is defined on `ColumnDataSource`. \n",
    "  * Finally, use `plot.add_tools()` to add the hover tooltip you just made to the figure. "
   ]
  },
  {
   "cell_type": "code",
   "execution_count": 5,
   "id": "30dce50c",
   "metadata": {},
   "outputs": [],
   "source": [
    "# Create the figure\n",
    "plot = figure(title='Gapminder data, plotting {} vs {} for year {}'.format(label[y], label[x], year), plot_height=700, plot_width=1000,\n",
    "              x_range=(xmin, xmax), y_range=(ymin, ymax))\n",
    "\n",
    "plot.circle(x='x', y='y', fill_alpha=0.6, source=source,\n",
    "            color=dict(field='region', transform=color_mapper), size='pop_size', legend_group='region')\n",
    "\n",
    "plot.legend.location = 'top_right'\n",
    "\n",
    "plot.xaxis.axis_label = label[x]\n",
    "\n",
    "plot.yaxis.axis_label = label[y]\n",
    "\n",
    "# create a HoverTool\n",
    "hover = HoverTool(tooltips=[\n",
    "    ('Country', '@country'),\n",
    "    ('Region', '@region'),\n",
    "    ('Population', '@pop{0,0}'),\n",
    "    (label[x], '@x{0,0.00}'),\n",
    "    (label[y], '@y{0,0.00}')\n",
    "])\n",
    "\n",
    "plot.add_tools(hover)\n",
    "\n"
   ]
  },
  {
   "cell_type": "markdown",
   "id": "bd54998c",
   "metadata": {},
   "source": [
    "**Step 5: Function update_plot()**\n",
    "\n",
    "Here we will define the `update_plot()` function for our callback method. \n",
    "This function:\n",
    "* Fetches the new value from the slider and dropdown menus and set it as the data source for the plot. \n",
    "\n",
    "**We also need to update the `hover too`l by removing and adding a newly created hover tool. \n",
    "It is important to define the hover tool as `global` for the function to work, since the original hover tool was defined outside of this function.**"
   ]
  },
  {
   "cell_type": "code",
   "execution_count": 6,
   "id": "636f54cf",
   "metadata": {},
   "outputs": [],
   "source": [
    "# Define the callback function for interacting with the widgets\n",
    "def update_plot(attr, old, new):\n",
    "    #Use global hover to update HoverTool    \n",
    "    global hover\n",
    "    \n",
    "    #Get updated values of current widgets (slider and dropdown menu)\n",
    "    year = slider.value\n",
    "    x = x_select.value\n",
    "    y = y_select.value\n",
    "    \n",
    "    # Update axis Labels\n",
    "    plot.xaxis.axis_label = label[x]\n",
    "    plot.yaxis.axis_label = label[y]\n",
    "    \n",
    "    # Set new_data dictionary for the updated data\n",
    "    new_data = {\n",
    "        'x'       : gm_data.loc[year, x],\n",
    "        'y'       : gm_data.loc[year, y],\n",
    "        'country' : gm_data.loc[year, 'Country'],\n",
    "        'pop'     : gm_data.loc[year, 'population'],\n",
    "        'pop_size': gm_data.loc[year, 'population'] / 20000000 + 2,\n",
    "        'region'  : gm_data.loc[year, 'region']\n",
    "    }\n",
    "    \n",
    "    # Assign new_data to source.data\n",
    "    source.data = new_data\n",
    "\n",
    "    # Set the range of all axes\n",
    "    plot.x_range.start = min(gm_data[x])\n",
    "    plot.x_range.end = max(gm_data[x])\n",
    "    plot.y_range.start = min(gm_data[y])\n",
    "    plot.y_range.end = max(gm_data[y])\n",
    "\n",
    "    # Add title to plot\n",
    "    plot.title.text = 'Gapminder data, plotting {} vs {} for year {}'.format(label[y], label[x], year)\n",
    "    \n",
    "    # Updating the hover tools\n",
    "    plot.tools.remove(hover)\n",
    "    \n",
    "    hover = HoverTool(tooltips=[\n",
    "        ('Country', '@country'),\n",
    "        ('Region', '@region'),\n",
    "        ('Population', '@pop{0,0}'),\n",
    "        (label[x], '@x{0,0.00}'),\n",
    "        (label[y], '@y{0,0.00}')\n",
    "    ])\n",
    "\n",
    "    plot.add_tools(hover)"
   ]
  },
  {
   "cell_type": "markdown",
   "id": "caa0b0af",
   "metadata": {},
   "source": [
    "**Step 6: Add a slider and dropdown menus**\n",
    "\n",
    "To make the plot interactive, Bokeh allows you to add slider and dropdown menus as well. \n",
    "\n",
    "To add the slider:\n",
    "* To add a dropdown menu, we use Select and input a list of possible dropdown options, give default value, and the title. \n",
    "* To refresh the plot when we move the slider or use the dropdown menu, we use `.on_change()` method.\n",
    "* This is a callback method to update the plot that will take in `function update_plot()` (user defined function) as a parameter. \n",
    "\n",
    "Create plot layout:\n",
    "* Using column and row, we design the layout of our plot. \n",
    "\n",
    "Finally, **we show the layout (not the plot) using `show(layout)`, which replaces show(plot).**"
   ]
  },
  {
   "cell_type": "code",
   "execution_count": 7,
   "id": "f4fe4e5b",
   "metadata": {},
   "outputs": [],
   "source": [
    "# Create a year slider\n",
    "slider = Slider(start=min(gm_data.index), end=max(gm_data.index), step=1, value=min(gm_data.index), title='Year')\n",
    "\n",
    "# Attach the update_plot callback to slider\n",
    "slider.on_change('value', update_plot)\n",
    "\n",
    "# Create the list of the dropdown menus\n",
    "dropdown = ['fertility', 'life', 'child_mortality', 'gdp']\n",
    "\n",
    "# Create a dropdown Select widget for the x data\n",
    "x_select = Select(\n",
    "    options=dropdown,\n",
    "    value=dropdown[0],\n",
    "    title='x-axis data'\n",
    ")\n",
    "\n",
    "# Attach the update_plot callback to x dropdown\n",
    "x_select.on_change('value', update_plot)\n",
    "\n",
    "# Create a dropdown Select widget for the y data\n",
    "y_select = Select(\n",
    "    options=dropdown,\n",
    "    value=dropdown[1],\n",
    "    title='y-axis data'\n",
    ")\n",
    "\n",
    "# Attach the update_plot callback to y dropdown\n",
    "y_select.on_change('value', update_plot)\n"
   ]
  },
  {
   "cell_type": "markdown",
   "id": "47980a74",
   "metadata": {},
   "source": [
    "**Step 7: Bokeh server application**\n",
    "\n",
    " We noticed that `show(layout)` only shows a static plot. \n",
    " To use Python callbacks, we need to use a **`Bokeh server application`**.\n",
    " \n",
    " We need to run the code on Bokeh server to make it interactive. \n",
    " To do so:\n",
    "  * we first need to use `curdoc` instead of `show(layout)` with the code below.\n"
   ]
  },
  {
   "cell_type": "code",
   "execution_count": 8,
   "id": "48f27154",
   "metadata": {},
   "outputs": [],
   "source": [
    "# Create play-pause button\n",
    "\n",
    "#define the callback function to animate the slider when clicking the button\n",
    "def animate_update():\n",
    "    year = slider.value + 1\n",
    "    if year > max(gm_data.index):\n",
    "        year = min(gm_data.index)\n",
    "    slider.value = year\n",
    "\n",
    "#create global variable for callback\n",
    "callback_animate = None\n",
    "\n",
    "#define the callback function for clicking the button\n",
    "def animate():\n",
    "    global callback_animate\n",
    "    if button.label == '► Play':\n",
    "        button.label = '❚❚ Pause'\n",
    "        callback_animate = curdoc().add_periodic_callback(animate_update, 200)\n",
    "    else:\n",
    "        button.label = '► Play'\n",
    "        curdoc().remove_periodic_callback(callback_animate)\n",
    "\n",
    "#create the button and set on-click callback\n",
    "button = Button(label='► Play', width=60)\n",
    "button.on_click(animate)"
   ]
  },
  {
   "cell_type": "code",
   "execution_count": 9,
   "id": "f34f85ba",
   "metadata": {},
   "outputs": [],
   "source": [
    "# Create layout and add to current document\n",
    "layout = row(column(slider, button, x_select, y_select), plot)\n",
    "curdoc().add_root(layout)\n",
    "curdoc().title = 'Gapminder'"
   ]
  },
  {
   "cell_type": "markdown",
   "id": "1764d29a",
   "metadata": {},
   "source": [
    "**Step 8: Run the Show**\n",
    " The code can be run from Notebook as well as from the Termilal."
   ]
  },
  {
   "cell_type": "code",
   "execution_count": null,
   "id": "c30ea643",
   "metadata": {},
   "outputs": [],
   "source": [
    "# Run on Bokeh server with bash code\n",
    "!bokeh serve --show --port 5002 gapminder_bokehserver.ipynb"
   ]
  },
  {
   "cell_type": "markdown",
   "id": "d109adfb",
   "metadata": {},
   "source": [
    "# Conclusion:\n",
    "    \n",
    "   Using Bokeh is more challenging than Matplotlib or Seaborn. But the interactivity that Bokeh offers really makes the plot stands out compared to static plots."
   ]
  }
 ],
 "metadata": {
  "kernelspec": {
   "display_name": "Python 3 (ipykernel)",
   "language": "python",
   "name": "python3"
  },
  "language_info": {
   "codemirror_mode": {
    "name": "ipython",
    "version": 3
   },
   "file_extension": ".py",
   "mimetype": "text/x-python",
   "name": "python",
   "nbconvert_exporter": "python",
   "pygments_lexer": "ipython3",
   "version": "3.9.12"
  }
 },
 "nbformat": 4,
 "nbformat_minor": 5
}
